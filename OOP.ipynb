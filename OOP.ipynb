{
  "nbformat": 4,
  "nbformat_minor": 0,
  "metadata": {
    "colab": {
      "provenance": []
    },
    "kernelspec": {
      "name": "python3",
      "display_name": "Python 3"
    },
    "language_info": {
      "name": "python"
    }
  },
  "cells": [
    {
      "cell_type": "code",
      "execution_count": null,
      "metadata": {
        "id": "tjN5B5SeUcrh"
      },
      "outputs": [],
      "source": [
        "class Warga():\n",
        "  def __init__(self,NIK):\n",
        "    self.nik = NIK\n",
        "\n",
        "  def nyoblos(self,pilihan)\n",
        "    self.pilihan = pilihan\n",
        "    print(f'{self.NIK} memilih {pilihan}')"
      ]
    }
  ]
}